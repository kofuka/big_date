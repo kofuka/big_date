{
 "cells": [
  {
   "cell_type": "code",
   "execution_count": 6,
   "id": "223c3d1e-646e-42c8-991a-445475320f97",
   "metadata": {},
   "outputs": [],
   "source": [
    "import pandas as pd\n",
    "import random\n",
    "\n",
    "# Создаем список словарей, каждый словарь представляет одну строку данных\n",
    "data_list = []\n",
    "\n",
    "# Заполняем список словарей случайными данными\n",
    "for _ in range(1000):\n",
    "    data_list.append({\n",
    "        'salary': float(random.randint(30000, 80000)),  # Установим числовой тип для 'salary'\n",
    "        'city': random.choice(['Bishkek', 'London', 'Moscow']),\n",
    "        'age': random.randint(30, 65),\n",
    "        'vacation_prefer': random.choice(['Shopping', 'Beach holiday']),\n",
    "        'transport_prefer': random.choice(['auto', 'plane']),\n",
    "        'target': random.choice(['Bishkek', 'London', 'Moscow'])\n",
    "    })\n",
    "\n",
    "# Создаем датафрейм из списка словарей\n",
    "data = pd.DataFrame(data_list)\n",
    "\n",
    "# Преобразование категориальных данных\n",
    "data = pd.get_dummies(data, columns=['city', 'vacation_prefer', 'transport_prefer'], drop_first=True)\n",
    "\n",
    "# Выделение обучающей и тестовой выборки\n",
    "X = data.drop('target', axis=1)\n",
    "y = data['target']\n",
    "\n",
    "X_train, X_test, y_train, y_test = train_test_split(X, y, test_size=0.2, random_state=42)\n"
   ]
  },
  {
   "cell_type": "code",
   "execution_count": 7,
   "id": "b0f1af3a-8e7a-4e60-9544-f333ab09541e",
   "metadata": {},
   "outputs": [
    {
     "name": "stdout",
     "output_type": "stream",
     "text": [
      "Accuracy on training set: 1.0\n",
      "\n",
      "Classification Report on training set:\n",
      "               precision    recall  f1-score   support\n",
      "\n",
      "     Bishkek       1.00      1.00      1.00       243\n",
      "      London       1.00      1.00      1.00       270\n",
      "      Moscow       1.00      1.00      1.00       287\n",
      "\n",
      "    accuracy                           1.00       800\n",
      "   macro avg       1.00      1.00      1.00       800\n",
      "weighted avg       1.00      1.00      1.00       800\n",
      "\n",
      "\n",
      "Cross-Validation Scores: [0.3375  0.34375 0.34375 0.3625  0.3125 ]\n",
      "Mean CV Accuracy: 0.33999999999999997\n",
      "\n",
      "Accuracy on test set: 0.32\n",
      "\n",
      "Classification Report on test set:\n",
      "               precision    recall  f1-score   support\n",
      "\n",
      "     Bishkek       0.31      0.22      0.26        64\n",
      "      London       0.26      0.26      0.26        68\n",
      "      Moscow       0.37      0.47      0.41        68\n",
      "\n",
      "    accuracy                           0.32       200\n",
      "   macro avg       0.31      0.32      0.31       200\n",
      "weighted avg       0.31      0.32      0.31       200\n",
      "\n"
     ]
    }
   ],
   "source": [
    "from sklearn.ensemble import RandomForestClassifier\n",
    "from sklearn.metrics import accuracy_score, classification_report\n",
    "from sklearn.model_selection import cross_val_score\n",
    "\n",
    "# Инициализация модели\n",
    "clf = RandomForestClassifier(random_state=42)\n",
    "\n",
    "# Обучение модели\n",
    "clf.fit(X_train, y_train)\n",
    "\n",
    "# Оценка модели на обучающей выборке\n",
    "train_predictions = clf.predict(X_train)\n",
    "print(\"Accuracy on training set:\", accuracy_score(y_train, train_predictions))\n",
    "print(\"\\nClassification Report on training set:\\n\", classification_report(y_train, train_predictions))\n",
    "\n",
    "# Перекрестная проверка\n",
    "cv_scores = cross_val_score(clf, X_train, y_train, cv=5)\n",
    "print(\"\\nCross-Validation Scores:\", cv_scores)\n",
    "print(\"Mean CV Accuracy:\", cv_scores.mean())\n",
    "\n",
    "# Оценка модели на тестовой выборке\n",
    "test_predictions = clf.predict(X_test)\n",
    "print(\"\\nAccuracy on test set:\", accuracy_score(y_test, test_predictions))\n",
    "print(\"\\nClassification Report on test set:\\n\", classification_report(y_test, test_predictions))\n"
   ]
  },
  {
   "cell_type": "code",
   "execution_count": 10,
   "id": "4217e0a0-2edf-4632-90ce-416fb6655b05",
   "metadata": {},
   "outputs": [
    {
     "name": "stdout",
     "output_type": "stream",
     "text": [
      "\n",
      "Predicted vacation destination: London\n"
     ]
    }
   ],
   "source": [
    "# Получение списка всех столбцов, созданных при помощи pd.get_dummies\n",
    "all_columns = X_train.columns\n",
    "\n",
    "# Создание случайных данных для предсказания\n",
    "random_data = {\n",
    "    'salary': [random.randint(30000, 80000)],\n",
    "    'age': [random.randint(30, 65)],\n",
    "    'city_Bishkek': [random.choice([0, 1])],\n",
    "    'city_London': [random.choice([0, 1])],\n",
    "    'city_Moscow': [random.choice([0, 1])],\n",
    "    'vacation_prefer_Beach holiday': [random.choice([0, 1])],\n",
    "    'vacation_prefer_Shopping': [random.choice([0, 1])],\n",
    "    'transport_prefer_plane': [random.choice([0, 1])],\n",
    "}\n",
    "\n",
    "random_df = pd.DataFrame(random_data)\n",
    "\n",
    "# Порядок столбцов должен совпадать с порядком в X_train\n",
    "random_df = random_df.reindex(columns=all_columns, fill_value=0)\n",
    "\n",
    "# Предсказание\n",
    "prediction = clf.predict(random_df)\n",
    "print(\"\\nPredicted vacation destination:\", prediction[0])"
   ]
  },
  {
   "cell_type": "code",
   "execution_count": 11,
   "id": "a518684c-ee4a-4885-a3ba-98872ab0a8f4",
   "metadata": {},
   "outputs": [
    {
     "name": "stdout",
     "output_type": "stream",
     "text": [
      "\n",
      "Best Parameters: {'max_depth': 10, 'min_samples_leaf': 4, 'min_samples_split': 10, 'n_estimators': 200}\n",
      "\n",
      "Accuracy on test set with best parameters: 0.335\n",
      "\n",
      "Classification Report on test set with best parameters:\n",
      "               precision    recall  f1-score   support\n",
      "\n",
      "     Bishkek       0.36      0.22      0.27        64\n",
      "      London       0.24      0.25      0.24        68\n",
      "      Moscow       0.40      0.53      0.46        68\n",
      "\n",
      "    accuracy                           0.34       200\n",
      "   macro avg       0.33      0.33      0.32       200\n",
      "weighted avg       0.33      0.34      0.33       200\n",
      "\n"
     ]
    }
   ],
   "source": [
    "from sklearn.model_selection import GridSearchCV\n",
    "\n",
    "# Параметры для решетчатого поиска\n",
    "param_grid = {\n",
    "    'n_estimators': [50, 100, 200],\n",
    "    'max_depth': [None, 10, 20],\n",
    "    'min_samples_split': [2, 5, 10],\n",
    "    'min_samples_leaf': [1, 2, 4]\n",
    "}\n",
    "\n",
    "# Решетчатый поиск\n",
    "grid_search = GridSearchCV(RandomForestClassifier(random_state=42), param_grid, cv=5)\n",
    "grid_search.fit(X_train, y_train)\n",
    "\n",
    "# Лучшие параметры\n",
    "print(\"\\nBest Parameters:\", grid_search.best_params_)\n",
    "\n",
    "# Оценка модели с лучшими параметрами\n",
    "best_clf = grid_search.best_estimator_\n",
    "best_clf.fit(X_train, y_train)\n",
    "\n",
    "# Оценка на тестовой выборке\n",
    "best_test_predictions = best_clf.predict(X_test)\n",
    "print(\"\\nAccuracy on test set with best parameters:\", accuracy_score(y_test, best_test_predictions))\n",
    "print(\"\\nClassification Report on test set with best parameters:\\n\", classification_report(y_test, best_test_predictions))\n"
   ]
  },
  {
   "cell_type": "code",
   "execution_count": null,
   "id": "c3191667-f46d-481a-a2c6-b4ae52b756af",
   "metadata": {},
   "outputs": [],
   "source": []
  }
 ],
 "metadata": {
  "kernelspec": {
   "display_name": "Python 3 (ipykernel)",
   "language": "python",
   "name": "python3"
  },
  "language_info": {
   "codemirror_mode": {
    "name": "ipython",
    "version": 3
   },
   "file_extension": ".py",
   "mimetype": "text/x-python",
   "name": "python",
   "nbconvert_exporter": "python",
   "pygments_lexer": "ipython3",
   "version": "3.11.5"
  }
 },
 "nbformat": 4,
 "nbformat_minor": 5
}
