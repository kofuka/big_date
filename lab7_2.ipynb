{
 "cells": [
  {
   "cell_type": "code",
   "execution_count": 26,
   "outputs": [],
   "source": [
    "import nltk\n",
    "from sklearn.feature_extraction.text import TfidfVectorizer\n",
    "from sklearn.linear_model import LinearRegression\n",
    "from nltk.corpus import stopwords"
   ],
   "metadata": {
    "collapsed": false,
    "ExecuteTime": {
     "end_time": "2023-12-14T06:36:17.384950300Z",
     "start_time": "2023-12-14T06:36:17.316624200Z"
    }
   },
   "id": "19fed00e74f289b3"
  },
  {
   "cell_type": "code",
   "execution_count": 27,
   "outputs": [
    {
     "name": "stdout",
     "output_type": "stream",
     "text": [
      "Review 1: This book is amazing!\n",
      "Review 2: The movie ending was so sad and left me with many emotions.\n",
      "Review 3: I love the new product, it's fantastic!\n",
      "Review 4: The game graphics are stunning, and the gameplay is addictive.\n",
      "Review 5: The restaurant provided excellent service and delicious food.\n",
      "Review 6: The quality of the service at this hotel is top-notch.\n",
      "Review 7: I was disappointed with the plot twist in the film.\n",
      "Review 8: The customer support for the product was terrible.\n",
      "Review 9: The book is a masterpiece, highly recommend!\n",
      "Review 10: The product didn't live up to my expectations, very dissatisfied.\n",
      "Review 11: The game is a waste of time, don't bother playing it.\n",
      "Review 12: The food at the restaurant was bland and tasteless.\n",
      "Review 13: I'm thrilled with the outcome of the movie, it exceeded my expectations.\n",
      "Review 14: The customer service was unresponsive and not helpful at all.\n",
      "Review 15: This novel is a must-read, it captivates from the first page.\n",
      "Review 16: The product is a great value for money, very pleased with my purchase.\n",
      "Review 17: The game has too many bugs and glitches, it's unplayable.\n",
      "Review 18: The hotel room was clean and comfortable, I had a pleasant stay.\n",
      "Review 19: I regret buying the product, it's not worth the money.\n",
      "Review 20: The film was boring, and I couldn't wait for it to end.\n"
     ]
    }
   ],
   "source": [
    "# \n",
    "reviews = [\n",
    "    \"This book is amazing!\",\n",
    "    \"The movie ending was so sad and left me with many emotions.\",\n",
    "    \"I love the new product, it's fantastic!\",\n",
    "    \"The game graphics are stunning, and the gameplay is addictive.\",\n",
    "    \"The restaurant provided excellent service and delicious food.\",\n",
    "    \"The quality of the service at this hotel is top-notch.\",\n",
    "    \"I was disappointed with the plot twist in the film.\",\n",
    "    \"The customer support for the product was terrible.\",\n",
    "    \"The book is a masterpiece, highly recommend!\",\n",
    "    \"The product didn't live up to my expectations, very dissatisfied.\",\n",
    "    \"The game is a waste of time, don't bother playing it.\",\n",
    "    \"The food at the restaurant was bland and tasteless.\",\n",
    "    \"I'm thrilled with the outcome of the movie, it exceeded my expectations.\",\n",
    "    \"The customer service was unresponsive and not helpful at all.\",\n",
    "    \"This novel is a must-read, it captivates from the first page.\",\n",
    "    \"The product is a great value for money, very pleased with my purchase.\",\n",
    "    \"The game has too many bugs and glitches, it's unplayable.\",\n",
    "    \"The hotel room was clean and comfortable, I had a pleasant stay.\",\n",
    "    \"I regret buying the product, it's not worth the money.\",\n",
    "    \"The film was boring, and I couldn't wait for it to end.\"\n",
    "]\n",
    "\n",
    "# \n",
    "for idx, review in enumerate(reviews):\n",
    "    print(f\"Review {idx + 1}: {review}\")\n"
   ],
   "metadata": {
    "collapsed": false,
    "ExecuteTime": {
     "end_time": "2023-12-14T06:36:17.719106100Z",
     "start_time": "2023-12-14T06:36:17.682139Z"
    }
   },
   "id": "b88a7cb9847cac49"
  },
  {
   "cell_type": "code",
   "execution_count": 28,
   "outputs": [
    {
     "name": "stderr",
     "output_type": "stream",
     "text": [
      "[nltk_data] Downloading package stopwords to\n",
      "[nltk_data]     C:\\Users\\user\\AppData\\Roaming\\nltk_data...\n",
      "[nltk_data]   Package stopwords is already up-to-date!\n"
     ]
    }
   ],
   "source": [
    "# Загрузите стоп-слова для английского языка\n",
    "nltk.download('stopwords')\n",
    "\n",
    "# Создайте словарь стоп-слов для английского языка\n",
    "stop_words = set(stopwords.words('english'))"
   ],
   "metadata": {
    "collapsed": false,
    "ExecuteTime": {
     "end_time": "2023-12-14T06:36:18.334046700Z",
     "start_time": "2023-12-14T06:36:18.330438800Z"
    }
   },
   "id": "dd5d61fd584606e6"
  },
  {
   "cell_type": "code",
   "execution_count": 29,
   "outputs": [
    {
     "name": "stdout",
     "output_type": "stream",
     "text": [
      "Отзывы после очистки:\n",
      "Отзыв 1: This book is amazing\n",
      "Отзыв 2: The movie ending was so sad and left me with many emotions\n",
      "Отзыв 3: I love the new product its fantastic\n",
      "Отзыв 4: The game graphics are stunning and the gameplay is addictive\n",
      "Отзыв 5: The restaurant provided excellent service and delicious food\n",
      "Отзыв 6: The quality of the service at this hotel is topnotch\n",
      "Отзыв 7: I was disappointed with the plot twist in the film\n",
      "Отзыв 8: The customer support for the product was terrible\n",
      "Отзыв 9: The book is a masterpiece highly recommend\n",
      "Отзыв 10: The product didnt live up to my expectations very dissatisfied\n",
      "Отзыв 11: The game is a waste of time dont bother playing it\n",
      "Отзыв 12: The food at the restaurant was bland and tasteless\n",
      "Отзыв 13: Im thrilled with the outcome of the movie it exceeded my expectations\n",
      "Отзыв 14: The customer service was unresponsive and not helpful at all\n",
      "Отзыв 15: This novel is a mustread it captivates from the first page\n",
      "Отзыв 16: The product is a great value for money very pleased with my purchase\n",
      "Отзыв 17: The game has too many bugs and glitches its unplayable\n",
      "Отзыв 18: The hotel room was clean and comfortable I had a pleasant stay\n",
      "Отзыв 19: I regret buying the product its not worth the money\n",
      "Отзыв 20: The film was boring and I couldnt wait for it to end\n"
     ]
    }
   ],
   "source": [
    "import re\n",
    "\n",
    "cleaned_reviews = []\n",
    "for review in reviews:\n",
    "    cleaned_review = re.sub(r'[^\\w\\s]', '', review)  # Удаление символов пунктуации\n",
    "    cleaned_reviews.append(cleaned_review)\n",
    "\n",
    "print(\"Отзывы после очистки:\")\n",
    "for idx, cleaned_review in enumerate(cleaned_reviews):\n",
    "    print(f\"Отзыв {idx + 1}: {cleaned_review}\")"
   ],
   "metadata": {
    "collapsed": false,
    "ExecuteTime": {
     "end_time": "2023-12-14T06:36:19.332849300Z",
     "start_time": "2023-12-14T06:36:19.317923700Z"
    }
   },
   "id": "dd63ed66f7834910"
  },
  {
   "cell_type": "code",
   "execution_count": 30,
   "outputs": [
    {
     "name": "stdout",
     "output_type": "stream",
     "text": [
      "Отзыв 1 (отфильтрованный): book amazing\n",
      "Отзыв 2 (отфильтрованный): movie ending sad left many emotions\n",
      "Отзыв 3 (отфильтрованный): love new product fantastic\n",
      "Отзыв 4 (отфильтрованный): game graphics stunning gameplay addictive\n",
      "Отзыв 5 (отфильтрованный): restaurant provided excellent service delicious food\n",
      "Отзыв 6 (отфильтрованный): quality service hotel\n",
      "Отзыв 7 (отфильтрованный): disappointed plot twist film\n",
      "Отзыв 8 (отфильтрованный): customer support product terrible\n",
      "Отзыв 9 (отфильтрованный): book masterpiece highly recommend\n",
      "Отзыв 10 (отфильтрованный): product live expectations dissatisfied\n",
      "Отзыв 11 (отфильтрованный): game waste time bother playing\n",
      "Отзыв 12 (отфильтрованный): food restaurant bland tasteless\n",
      "Отзыв 13 (отфильтрованный): thrilled outcome movie exceeded expectations\n",
      "Отзыв 14 (отфильтрованный): customer service unresponsive helpful\n",
      "Отзыв 15 (отфильтрованный): novel captivates first page\n",
      "Отзыв 16 (отфильтрованный): product great value money pleased purchase\n",
      "Отзыв 17 (отфильтрованный): game many bugs glitches unplayable\n",
      "Отзыв 18 (отфильтрованный): hotel room clean comfortable pleasant stay\n",
      "Отзыв 19 (отфильтрованный): regret buying product worth money\n",
      "Отзыв 20 (отфильтрованный): film boring could wait end\n"
     ]
    },
    {
     "name": "stderr",
     "output_type": "stream",
     "text": [
      "[nltk_data] Downloading package punkt to\n",
      "[nltk_data]     C:\\Users\\user\\AppData\\Roaming\\nltk_data...\n",
      "[nltk_data]   Package punkt is already up-to-date!\n"
     ]
    }
   ],
   "source": [
    "nltk.download('punkt')\n",
    "# Примените стоп-слова к вашим отзывам\n",
    "filtered_reviews = []\n",
    "for review in reviews:\n",
    "    words = nltk.word_tokenize(review.lower())\n",
    "    filtered_review = ' '.join([word for word in words if word.isalpha() and word not in stop_words])\n",
    "    filtered_reviews.append(filtered_review)\n",
    "\n",
    "# Вывод отфильтрованных отзывов\n",
    "for idx, filtered_review in enumerate(filtered_reviews):\n",
    "    print(f\"Отзыв {idx + 1} (отфильтрованный): {filtered_review}\")"
   ],
   "metadata": {
    "collapsed": false,
    "ExecuteTime": {
     "end_time": "2023-12-14T06:36:20.016872900Z",
     "start_time": "2023-12-14T06:36:20.000746100Z"
    }
   },
   "id": "7dcaac83d0a7485c"
  },
  {
   "cell_type": "code",
   "execution_count": 31,
   "outputs": [
    {
     "name": "stdout",
     "output_type": "stream",
     "text": [
      "Отзывы после лемматизации:\n",
      "Отзыв 1: This book is amazing\n",
      "Отзыв 2: The movie ending wa so sad and left me with many emotion\n",
      "Отзыв 3: I love the new product it fantastic\n",
      "Отзыв 4: The game graphic are stunning and the gameplay is addictive\n",
      "Отзыв 5: The restaurant provided excellent service and delicious food\n",
      "Отзыв 6: The quality of the service at this hotel is topnotch\n",
      "Отзыв 7: I wa disappointed with the plot twist in the film\n",
      "Отзыв 8: The customer support for the product wa terrible\n",
      "Отзыв 9: The book is a masterpiece highly recommend\n",
      "Отзыв 10: The product didnt live up to my expectation very dissatisfied\n",
      "Отзыв 11: The game is a waste of time dont bother playing it\n",
      "Отзыв 12: The food at the restaurant wa bland and tasteless\n",
      "Отзыв 13: Im thrilled with the outcome of the movie it exceeded my expectation\n",
      "Отзыв 14: The customer service wa unresponsive and not helpful at all\n",
      "Отзыв 15: This novel is a mustread it captivates from the first page\n",
      "Отзыв 16: The product is a great value for money very pleased with my purchase\n",
      "Отзыв 17: The game ha too many bug and glitch it unplayable\n",
      "Отзыв 18: The hotel room wa clean and comfortable I had a pleasant stay\n",
      "Отзыв 19: I regret buying the product it not worth the money\n",
      "Отзыв 20: The film wa boring and I couldnt wait for it to end\n",
      "\n",
      "Отзывы после стемминга:\n",
      "Отзыв 1: thi book is amaz\n",
      "Отзыв 2: the movi end wa so sad and left me with mani emot\n",
      "Отзыв 3: i love the new product it fantast\n",
      "Отзыв 4: the game graphic are stun and the gameplay is addict\n",
      "Отзыв 5: the restaur provid excel servic and delici food\n",
      "Отзыв 6: the qualiti of the servic at thi hotel is topnotch\n",
      "Отзыв 7: i wa disappoint with the plot twist in the film\n",
      "Отзыв 8: the custom support for the product wa terribl\n",
      "Отзыв 9: the book is a masterpiec highli recommend\n",
      "Отзыв 10: the product didnt live up to my expect veri dissatisfi\n",
      "Отзыв 11: the game is a wast of time dont bother play it\n",
      "Отзыв 12: the food at the restaur wa bland and tasteless\n",
      "Отзыв 13: im thrill with the outcom of the movi it exceed my expect\n",
      "Отзыв 14: the custom servic wa unrespons and not help at all\n",
      "Отзыв 15: thi novel is a mustread it captiv from the first page\n",
      "Отзыв 16: the product is a great valu for money veri pleas with my purchas\n",
      "Отзыв 17: the game ha too mani bug and glitch it unplay\n",
      "Отзыв 18: the hotel room wa clean and comfort i had a pleasant stay\n",
      "Отзыв 19: i regret buy the product it not worth the money\n",
      "Отзыв 20: the film wa bore and i couldnt wait for it to end\n"
     ]
    },
    {
     "name": "stderr",
     "output_type": "stream",
     "text": [
      "[nltk_data] Downloading package punkt to\n",
      "[nltk_data]     C:\\Users\\user\\AppData\\Roaming\\nltk_data...\n",
      "[nltk_data]   Package punkt is already up-to-date!\n",
      "[nltk_data] Downloading package wordnet to\n",
      "[nltk_data]     C:\\Users\\user\\AppData\\Roaming\\nltk_data...\n",
      "[nltk_data]   Package wordnet is already up-to-date!\n"
     ]
    }
   ],
   "source": [
    "from nltk.stem import PorterStemmer, WordNetLemmatizer\n",
    "from nltk.tokenize import word_tokenize\n",
    "import nltk\n",
    "\n",
    "nltk.download('punkt')\n",
    "nltk.download('wordnet')\n",
    "\n",
    "# Создаем объекты лемматизатора и стеммера\n",
    "lemmatizer = WordNetLemmatizer()\n",
    "stemmer = PorterStemmer()\n",
    "\n",
    "lemmatized_reviews = []\n",
    "stemmed_reviews = []\n",
    "\n",
    "for review in cleaned_reviews:\n",
    "    words = word_tokenize(review)\n",
    "    \n",
    "    lemmatized_review = ' '.join([lemmatizer.lemmatize(word) for word in words])\n",
    "    stemmed_review = ' '.join([stemmer.stem(word) for word in words])\n",
    "    \n",
    "    lemmatized_reviews.append(lemmatized_review)\n",
    "    stemmed_reviews.append(stemmed_review)\n",
    "\n",
    "print(\"Отзывы после лемматизации:\")\n",
    "for idx, lemmatized_review in enumerate(lemmatized_reviews):\n",
    "    print(f\"Отзыв {idx + 1}: {lemmatized_review}\")\n",
    "\n",
    "print(\"\\nОтзывы после стемминга:\")\n",
    "for idx, stemmed_review in enumerate(stemmed_reviews):\n",
    "    print(f\"Отзыв {idx + 1}: {stemmed_review}\")\n"
   ],
   "metadata": {
    "collapsed": false,
    "ExecuteTime": {
     "end_time": "2023-12-14T06:36:21.883096400Z",
     "start_time": "2023-12-14T06:36:21.818020400Z"
    }
   },
   "id": "352a5ecfc080b9d0"
  },
  {
   "cell_type": "code",
   "execution_count": 32,
   "outputs": [
    {
     "name": "stdout",
     "output_type": "stream",
     "text": [
      "Матрица TF-IDF после удаления редких и частых слов:\n",
      "[[0.         0.75108019 0.         ... 0.         0.         0.        ]\n",
      " [0.         0.         0.         ... 0.         0.         0.        ]\n",
      " [0.         0.         0.         ... 0.         0.         0.        ]\n",
      " ...\n",
      " [0.         0.         0.         ... 0.         0.         0.        ]\n",
      " [0.         0.         0.         ... 0.         0.         0.48653258]\n",
      " [0.         0.         0.         ... 0.45774055 0.         0.        ]]\n",
      "Слова в порядке их появления в матрице:\n",
      "['addictive' 'amazing' 'bland' 'book' 'boring' 'bother' 'bugs' 'buying'\n",
      " 'captivates' 'clean' 'comfortable' 'could' 'customer' 'delicious'\n",
      " 'disappointed' 'dissatisfied' 'emotions' 'end' 'ending' 'exceeded'\n",
      " 'excellent' 'expectations' 'fantastic' 'film' 'first' 'food' 'game'\n",
      " 'gameplay' 'glitches' 'graphics' 'great' 'helpful' 'highly' 'hotel'\n",
      " 'left' 'live' 'love' 'many' 'masterpiece' 'money' 'movie' 'new' 'novel'\n",
      " 'outcome' 'page' 'playing' 'pleasant' 'pleased' 'plot' 'product'\n",
      " 'provided' 'purchase' 'quality' 'recommend' 'regret' 'restaurant' 'room'\n",
      " 'sad' 'service' 'stay' 'stunning' 'support' 'tasteless' 'terrible'\n",
      " 'thrilled' 'time' 'twist' 'unplayable' 'unresponsive' 'value' 'wait'\n",
      " 'waste' 'worth']\n"
     ]
    }
   ],
   "source": [
    "from sklearn.feature_extraction.text import TfidfVectorizer\n",
    "\n",
    "tfidf_vectorizer = TfidfVectorizer()\n",
    "tfidf_matrix = tfidf_vectorizer.fit_transform(filtered_reviews)\n",
    "\n",
    "print(\"Матрица TF-IDF после удаления редких и частых слов:\")\n",
    "print(tfidf_matrix.toarray())\n",
    "print(\"Слова в порядке их появления в матрице:\")\n",
    "print(tfidf_vectorizer.get_feature_names_out())\n"
   ],
   "metadata": {
    "collapsed": false,
    "ExecuteTime": {
     "end_time": "2023-12-14T06:36:23.167759700Z",
     "start_time": "2023-12-14T06:36:23.140715300Z"
    }
   },
   "id": "1f8493ddda64a5fb"
  },
  {
   "cell_type": "code",
   "execution_count": 33,
   "outputs": [
    {
     "name": "stdout",
     "output_type": "stream",
     "text": [
      "Матрица TF-IDF:\n",
      "[[0.         0.75108019 0.         ... 0.         0.         0.        ]\n",
      " [0.         0.         0.         ... 0.         0.         0.        ]\n",
      " [0.         0.         0.         ... 0.         0.         0.        ]\n",
      " ...\n",
      " [0.         0.         0.         ... 0.         0.         0.        ]\n",
      " [0.         0.         0.         ... 0.         0.         0.48653258]\n",
      " [0.         0.         0.         ... 0.45774055 0.         0.        ]]\n"
     ]
    }
   ],
   "source": [
    "from sklearn.feature_extraction.text import TfidfVectorizer\n",
    "\n",
    "# Создайте объект TfidfVectorizer\n",
    "tfidf_vectorizer = TfidfVectorizer()\n",
    "\n",
    "# Преобразуйте отфильтрованные отзывы в матрицу TF-IDF\n",
    "tfidf_matrix = tfidf_vectorizer.fit_transform(filtered_reviews)\n",
    "\n",
    "# Выведите матрицу TF-IDF\n",
    "print(\"Матрица TF-IDF:\")\n",
    "print(tfidf_matrix.toarray())\n"
   ],
   "metadata": {
    "collapsed": false,
    "ExecuteTime": {
     "end_time": "2023-12-14T06:36:26.546205500Z",
     "start_time": "2023-12-14T06:36:26.512742Z"
    }
   },
   "id": "aa907ccdbd42a413"
  },
  {
   "cell_type": "code",
   "execution_count": 34,
   "outputs": [
    {
     "name": "stdout",
     "output_type": "stream",
     "text": [
      "Матрица частот слов:\n",
      "[[0 0 1 ... 0 0 0]\n",
      " [0 0 0 ... 0 1 0]\n",
      " [0 0 0 ... 0 0 0]\n",
      " ...\n",
      " [0 0 0 ... 0 0 0]\n",
      " [0 0 0 ... 0 0 1]\n",
      " [0 0 0 ... 0 0 0]]\n",
      "Слова в порядке их появления в матрице:\n",
      "['addictive' 'all' 'amazing' 'and' 'are' 'at' 'bland' 'book' 'boring'\n",
      " 'bother' 'bugs' 'buying' 'captivates' 'clean' 'comfortable' 'couldnt'\n",
      " 'customer' 'delicious' 'didnt' 'disappointed' 'dissatisfied' 'dont'\n",
      " 'emotions' 'end' 'ending' 'exceeded' 'excellent' 'expectations'\n",
      " 'fantastic' 'film' 'first' 'food' 'for' 'from' 'game' 'gameplay'\n",
      " 'glitches' 'graphics' 'great' 'had' 'has' 'helpful' 'highly' 'hotel' 'im'\n",
      " 'in' 'is' 'it' 'its' 'left' 'live' 'love' 'many' 'masterpiece' 'me'\n",
      " 'money' 'movie' 'mustread' 'my' 'new' 'not' 'novel' 'of' 'outcome' 'page'\n",
      " 'playing' 'pleasant' 'pleased' 'plot' 'product' 'provided' 'purchase'\n",
      " 'quality' 'recommend' 'regret' 'restaurant' 'room' 'sad' 'service' 'so'\n",
      " 'stay' 'stunning' 'support' 'tasteless' 'terrible' 'the' 'this'\n",
      " 'thrilled' 'time' 'to' 'too' 'topnotch' 'twist' 'unplayable'\n",
      " 'unresponsive' 'up' 'value' 'very' 'wait' 'was' 'waste' 'with' 'worth']\n"
     ]
    }
   ],
   "source": [
    "from sklearn.feature_extraction.text import CountVectorizer\n",
    "\n",
    "vectorizer = CountVectorizer()\n",
    "word_frequency_matrix = vectorizer.fit_transform(cleaned_reviews)\n",
    "\n",
    "print(\"Матрица частот слов:\")\n",
    "print(word_frequency_matrix.toarray())\n",
    "print(\"Слова в порядке их появления в матрице:\")\n",
    "print(vectorizer.get_feature_names_out())\n",
    "\n"
   ],
   "metadata": {
    "collapsed": false,
    "ExecuteTime": {
     "end_time": "2023-12-14T06:36:28.547821800Z",
     "start_time": "2023-12-14T06:36:28.520675900Z"
    }
   },
   "id": "8bebb3fa9404521c"
  },
  {
   "cell_type": "code",
   "execution_count": 35,
   "outputs": [],
   "source": [
    "# from sklearn.linear_model import LinearRegression\n",
    "# \n",
    "# # Создайте объект линейной регрессии\n",
    "# model = LinearRegression()\n",
    "# \n",
    "# # Обучите модель на матрице TF-IDF и фиктивных метках\n",
    "# dummy_labels = [1] * len(filtered_reviews)  # Замените это реальными метками\n",
    "# model.fit(tfidf_matrix, dummy_labels)\n",
    "# \n",
    "# # Выведите коэффициенты модели\n",
    "# coefficients = model.coef_\n",
    "# intercept = model.intercept_\n",
    "# \n",
    "# # Выведите коэффициенты\n",
    "# print(\"Коэффициенты модели:\", coefficients)\n",
    "# print(\"Свободный член (intercept):\", intercept)\n"
   ],
   "metadata": {
    "collapsed": false,
    "ExecuteTime": {
     "end_time": "2023-12-14T06:36:29.550758900Z",
     "start_time": "2023-12-14T06:36:29.541472600Z"
    }
   },
   "id": "35d53fb3ebcfb4b0"
  },
  {
   "cell_type": "code",
   "execution_count": 36,
   "outputs": [
    {
     "name": "stdout",
     "output_type": "stream",
     "text": [
      "Review 1: This book is amazing!\n",
      "Review 2: The movie ending was so sad and left me with many emotions.\n",
      "Review 3: I love the new product, it's fantastic!\n",
      "Review 4: The game graphics are stunning, and the gameplay is addictive.\n",
      "Review 5: The restaurant provided excellent service and delicious food.\n",
      "Review 6: The quality of the service at this hotel is top-notch.\n",
      "Review 7: I was disappointed with the plot twist in the film.\n",
      "Review 8: The customer support for the product was terrible.\n",
      "Review 9: The book is a masterpiece, highly recommend!\n",
      "Review 10: The product didn't live up to my expectations, very dissatisfied.\n",
      "Review 11: The game is a waste of time, don't bother playing it.\n",
      "Review 12: The food at the restaurant was bland and tasteless.\n",
      "Review 13: I'm thrilled with the outcome of the movie, it exceeded my expectations.\n",
      "Review 14: The customer service was unresponsive and not helpful at all.\n",
      "Review 15: This novel is a must-read, it captivates from the first page.\n",
      "Review 16: The product is a great value for money, very pleased with my purchase.\n",
      "Review 17: The game has too many bugs and glitches, it's unplayable.\n",
      "Review 18: The hotel room was clean and comfortable, I had a pleasant stay.\n",
      "Review 19: I regret buying the product, it's not worth the money.\n",
      "Review 20: The film was boring, and I couldn't wait for it to end.\n"
     ]
    }
   ],
   "source": [
    "for idx, review in enumerate(reviews):\n",
    "    print(f\"Review {idx + 1}: {review}\")"
   ],
   "metadata": {
    "collapsed": false,
    "ExecuteTime": {
     "end_time": "2023-12-14T06:36:32.027251600Z",
     "start_time": "2023-12-14T06:36:32.012734300Z"
    }
   },
   "id": "49569eac1c908e19"
  },
  {
   "cell_type": "code",
   "execution_count": 37,
   "outputs": [],
   "source": [
    "import pandas as pd\n",
    "import numpy as np\n",
    "from sklearn.feature_extraction.text import TfidfVectorizer\n",
    "from sklearn.model_selection import train_test_split\n",
    "from sklearn.linear_model import LogisticRegression\n",
    "from sklearn.metrics import classification_report"
   ],
   "metadata": {
    "collapsed": false,
    "ExecuteTime": {
     "end_time": "2023-12-14T06:36:35.666097200Z",
     "start_time": "2023-12-14T06:36:35.633059700Z"
    }
   },
   "id": "29afcca50ceaa901"
  },
  {
   "cell_type": "code",
   "execution_count": 38,
   "outputs": [
    {
     "name": "stdout",
     "output_type": "stream",
     "text": [
      "{'0': {'precision': 0.0, 'recall': 0.0, 'f1-score': 0.0, 'support': 2.0}, '1': {'precision': 0.5, 'recall': 1.0, 'f1-score': 0.6666666666666666, 'support': 2.0}, 'accuracy': 0.5, 'macro avg': {'precision': 0.25, 'recall': 0.5, 'f1-score': 0.3333333333333333, 'support': 4.0}, 'weighted avg': {'precision': 0.25, 'recall': 0.5, 'f1-score': 0.3333333333333333, 'support': 4.0}}\n"
     ]
    },
    {
     "name": "stderr",
     "output_type": "stream",
     "text": [
      "C:\\Users\\user\\PycharmProjects\\pythonProject\\venv\\Lib\\site-packages\\sklearn\\metrics\\_classification.py:1471: UndefinedMetricWarning: Precision and F-score are ill-defined and being set to 0.0 in labels with no predicted samples. Use `zero_division` parameter to control this behavior.\n",
      "  _warn_prf(average, modifier, msg_start, len(result))\n",
      "C:\\Users\\user\\PycharmProjects\\pythonProject\\venv\\Lib\\site-packages\\sklearn\\metrics\\_classification.py:1471: UndefinedMetricWarning: Precision and F-score are ill-defined and being set to 0.0 in labels with no predicted samples. Use `zero_division` parameter to control this behavior.\n",
      "  _warn_prf(average, modifier, msg_start, len(result))\n",
      "C:\\Users\\user\\PycharmProjects\\pythonProject\\venv\\Lib\\site-packages\\sklearn\\metrics\\_classification.py:1471: UndefinedMetricWarning: Precision and F-score are ill-defined and being set to 0.0 in labels with no predicted samples. Use `zero_division` parameter to control this behavior.\n",
      "  _warn_prf(average, modifier, msg_start, len(result))\n"
     ]
    }
   ],
   "source": [
    "\n",
    "\n",
    "# Задаем метки (0 - негатив, 1 - позитив)\n",
    "labels = [1, 1, 0, 1, 0, 1, 0, 1, 0, 1, 0, 1, 1, 0, 1, 0, 1, 0, 1, 0]\n",
    "\n",
    "# Создаем DataFrame\n",
    "df = pd.DataFrame({'review': reviews, 'label': labels})\n",
    "\n",
    "# Преобразование текста отзывов в числовые признаки с помощью TF-IDF\n",
    "tfidf_vectorizer = TfidfVectorizer(stop_words='english')\n",
    "tfidf_matrix = tfidf_vectorizer.fit_transform(df['review'])\n",
    "\n",
    "# Разделение данных на обучающий и тестовый наборы\n",
    "X_train, X_test, Y_train, Y_test = train_test_split(tfidf_matrix, df['label'], test_size=0.2, random_state=42)\n",
    "\n",
    "# Создание и обучение модели логистической регрессии\n",
    "lr = LogisticRegression(solver='saga', max_iter=1000)\n",
    "lr.fit(X_train, Y_train)\n",
    "\n",
    "# Предсказание на тестовом наборе данных\n",
    "y_pred = lr.predict(X_test)\n",
    "\n",
    "# Оценка результатов\n",
    "report = classification_report(Y_test, y_pred, output_dict=True)\n",
    "print(report)"
   ],
   "metadata": {
    "collapsed": false,
    "ExecuteTime": {
     "end_time": "2023-12-14T06:36:41.282458200Z",
     "start_time": "2023-12-14T06:36:41.175754600Z"
    }
   },
   "id": "348836817cd046e8"
  },
  {
   "cell_type": "code",
   "execution_count": null,
   "outputs": [],
   "source": [],
   "metadata": {
    "collapsed": false
   },
   "id": "14a1b842f43f3b62"
  }
 ],
 "metadata": {
  "kernelspec": {
   "display_name": "Python 3",
   "language": "python",
   "name": "python3"
  },
  "language_info": {
   "codemirror_mode": {
    "name": "ipython",
    "version": 2
   },
   "file_extension": ".py",
   "mimetype": "text/x-python",
   "name": "python",
   "nbconvert_exporter": "python",
   "pygments_lexer": "ipython2",
   "version": "2.7.6"
  }
 },
 "nbformat": 4,
 "nbformat_minor": 5
}
